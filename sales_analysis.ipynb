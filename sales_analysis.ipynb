{
 "cells": [
  {
   "cell_type": "code",
   "execution_count": 2,
   "id": "f80b30cb-5fdc-4ef5-97e6-b9223bacdd8e",
   "metadata": {},
   "outputs": [],
   "source": [
    "import pandas as pd\n",
    "import numpy as np"
   ]
  },
  {
   "cell_type": "markdown",
   "id": "6d22845c-2c7d-4abe-9e51-0111230ffa6f",
   "metadata": {},
   "source": [
    "#### Load the dataset using Pandas ---"
   ]
  },
  {
   "cell_type": "code",
   "execution_count": 27,
   "id": "f91a111e-e3ea-435d-a3f5-f601492ce9a0",
   "metadata": {},
   "outputs": [],
   "source": [
    "df = pd.read_csv('datset - Sheet1.csv')"
   ]
  },
  {
   "cell_type": "code",
   "execution_count": 29,
   "id": "59a40a53-3607-4f9d-9e63-deb762d3ed4d",
   "metadata": {},
   "outputs": [
    {
     "data": {
      "text/html": [
       "<div>\n",
       "<style scoped>\n",
       "    .dataframe tbody tr th:only-of-type {\n",
       "        vertical-align: middle;\n",
       "    }\n",
       "\n",
       "    .dataframe tbody tr th {\n",
       "        vertical-align: top;\n",
       "    }\n",
       "\n",
       "    .dataframe thead th {\n",
       "        text-align: right;\n",
       "    }\n",
       "</style>\n",
       "<table border=\"1\" class=\"dataframe\">\n",
       "  <thead>\n",
       "    <tr style=\"text-align: right;\">\n",
       "      <th></th>\n",
       "      <th>OrderID</th>\n",
       "      <th>Date</th>\n",
       "      <th>Region</th>\n",
       "      <th>CustomerName</th>\n",
       "      <th>Product</th>\n",
       "      <th>Quantity</th>\n",
       "      <th>UnitPrice</th>\n",
       "      <th>TotalSales</th>\n",
       "      <th>PaymentMethod</th>\n",
       "    </tr>\n",
       "  </thead>\n",
       "  <tbody>\n",
       "    <tr>\n",
       "      <th>0</th>\n",
       "      <td>1001</td>\n",
       "      <td>2023-01-15</td>\n",
       "      <td>North</td>\n",
       "      <td>Alice Johnson</td>\n",
       "      <td>Laptop</td>\n",
       "      <td>2.0</td>\n",
       "      <td>700.0</td>\n",
       "      <td>1400.0</td>\n",
       "      <td>Credit Card</td>\n",
       "    </tr>\n",
       "    <tr>\n",
       "      <th>1</th>\n",
       "      <td>1002</td>\n",
       "      <td>2023-01-16</td>\n",
       "      <td>South</td>\n",
       "      <td>Rahul Mehta</td>\n",
       "      <td>Mobile Phone</td>\n",
       "      <td>5.0</td>\n",
       "      <td>300.0</td>\n",
       "      <td>1500.0</td>\n",
       "      <td>UPI</td>\n",
       "    </tr>\n",
       "    <tr>\n",
       "      <th>2</th>\n",
       "      <td>1003</td>\n",
       "      <td>2023-01-17</td>\n",
       "      <td>East</td>\n",
       "      <td>Fatima Noor</td>\n",
       "      <td>Headphones</td>\n",
       "      <td>10.0</td>\n",
       "      <td>50.0</td>\n",
       "      <td>500.0</td>\n",
       "      <td>Debit Card</td>\n",
       "    </tr>\n",
       "    <tr>\n",
       "      <th>3</th>\n",
       "      <td>1004</td>\n",
       "      <td>2023-01-18</td>\n",
       "      <td>West</td>\n",
       "      <td>NaN</td>\n",
       "      <td>Laptop</td>\n",
       "      <td>1.0</td>\n",
       "      <td>720.0</td>\n",
       "      <td>720.0</td>\n",
       "      <td>Credit Card</td>\n",
       "    </tr>\n",
       "    <tr>\n",
       "      <th>4</th>\n",
       "      <td>1005</td>\n",
       "      <td>2023-01-19</td>\n",
       "      <td>North</td>\n",
       "      <td>Zoe Carter</td>\n",
       "      <td>Mobile Phone</td>\n",
       "      <td>3.0</td>\n",
       "      <td>NaN</td>\n",
       "      <td>NaN</td>\n",
       "      <td>UPI</td>\n",
       "    </tr>\n",
       "  </tbody>\n",
       "</table>\n",
       "</div>"
      ],
      "text/plain": [
       "   OrderID        Date Region   CustomerName       Product  Quantity  \\\n",
       "0     1001  2023-01-15  North  Alice Johnson        Laptop       2.0   \n",
       "1     1002  2023-01-16  South    Rahul Mehta  Mobile Phone       5.0   \n",
       "2     1003  2023-01-17   East    Fatima Noor    Headphones      10.0   \n",
       "3     1004  2023-01-18   West            NaN        Laptop       1.0   \n",
       "4     1005  2023-01-19  North     Zoe Carter  Mobile Phone       3.0   \n",
       "\n",
       "   UnitPrice  TotalSales PaymentMethod  \n",
       "0      700.0      1400.0   Credit Card  \n",
       "1      300.0      1500.0           UPI  \n",
       "2       50.0       500.0    Debit Card  \n",
       "3      720.0       720.0   Credit Card  \n",
       "4        NaN         NaN           UPI  "
      ]
     },
     "execution_count": 29,
     "metadata": {},
     "output_type": "execute_result"
    }
   ],
   "source": [
    "df.head()"
   ]
  },
  {
   "cell_type": "markdown",
   "id": "ede397a4-6ffa-41d4-9de9-7b7bc6bd4234",
   "metadata": {},
   "source": [
    "#### Clean missing/null values ---"
   ]
  },
  {
   "cell_type": "code",
   "execution_count": 32,
   "id": "2a8d92ff-0606-4d66-8ffd-bc18de5e7c4b",
   "metadata": {},
   "outputs": [
    {
     "name": "stdout",
     "output_type": "stream",
     "text": [
      "OrderID          0\n",
      "Date             0\n",
      "Region           0\n",
      "CustomerName     2\n",
      "Product          0\n",
      "Quantity         1\n",
      "UnitPrice        2\n",
      "TotalSales       2\n",
      "PaymentMethod    0\n",
      "dtype: int64\n"
     ]
    }
   ],
   "source": [
    "# Check null values\n",
    "print(df.isnull().sum())"
   ]
  },
  {
   "cell_type": "code",
   "execution_count": 34,
   "id": "ec27994a-a490-4a86-b112-c923949f9eb8",
   "metadata": {},
   "outputs": [
    {
     "name": "stderr",
     "output_type": "stream",
     "text": [
      "C:\\Users\\PC\\AppData\\Local\\Temp\\ipykernel_2368\\2946082260.py:3: FutureWarning: A value is trying to be set on a copy of a DataFrame or Series through chained assignment using an inplace method.\n",
      "The behavior will change in pandas 3.0. This inplace method will never work because the intermediate object on which we are setting values always behaves as a copy.\n",
      "\n",
      "For example, when doing 'df[col].method(value, inplace=True)', try using 'df.method({col: value}, inplace=True)' or df[col] = df[col].method(value) instead, to perform the operation inplace on the original object.\n",
      "\n",
      "\n",
      "  df['CustomerName'].fillna('Unknown', inplace=True)\n"
     ]
    }
   ],
   "source": [
    "# Fill missing CustomerName with 'Unknown'\n",
    "\n",
    "df['CustomerName'].fillna('Unknown', inplace=True)"
   ]
  },
  {
   "cell_type": "code",
   "execution_count": 38,
   "id": "de4bef5f-459f-460e-8d4f-e61926c547fe",
   "metadata": {},
   "outputs": [],
   "source": [
    "# Fill missing Quantity using median of that Product\n",
    "\n",
    "df['Quantity'] = df.groupby('Product')['Quantity'].transform(lambda x: x.fillna(x.median()))"
   ]
  },
  {
   "cell_type": "code",
   "execution_count": 40,
   "id": "ac5a467d-fdec-41e7-9083-bfd6f6ab2385",
   "metadata": {},
   "outputs": [],
   "source": [
    "# Fill missing UnitPrice using mean of that Product\n",
    "\n",
    "df['UnitPrice'] = df.groupby('Product')['UnitPrice'].transform(lambda x: x.fillna(x.mean()))"
   ]
  },
  {
   "cell_type": "code",
   "execution_count": 42,
   "id": "b2a12310-c799-4049-aca5-8f47ef510711",
   "metadata": {},
   "outputs": [],
   "source": [
    "# Recalculate TotalSales = Quantity × UnitPrice\n",
    "\n",
    "df['TotalSales'] = df['Quantity'] * df['UnitPrice']"
   ]
  },
  {
   "cell_type": "code",
   "execution_count": 48,
   "id": "b91303f9-1d66-4884-9d0a-87fdbfc3612a",
   "metadata": {},
   "outputs": [
    {
     "data": {
      "text/html": [
       "<div>\n",
       "<style scoped>\n",
       "    .dataframe tbody tr th:only-of-type {\n",
       "        vertical-align: middle;\n",
       "    }\n",
       "\n",
       "    .dataframe tbody tr th {\n",
       "        vertical-align: top;\n",
       "    }\n",
       "\n",
       "    .dataframe thead th {\n",
       "        text-align: right;\n",
       "    }\n",
       "</style>\n",
       "<table border=\"1\" class=\"dataframe\">\n",
       "  <thead>\n",
       "    <tr style=\"text-align: right;\">\n",
       "      <th></th>\n",
       "      <th>OrderID</th>\n",
       "      <th>Date</th>\n",
       "      <th>Region</th>\n",
       "      <th>CustomerName</th>\n",
       "      <th>Product</th>\n",
       "      <th>Quantity</th>\n",
       "      <th>UnitPrice</th>\n",
       "      <th>TotalSales</th>\n",
       "      <th>PaymentMethod</th>\n",
       "    </tr>\n",
       "  </thead>\n",
       "  <tbody>\n",
       "    <tr>\n",
       "      <th>0</th>\n",
       "      <td>1001</td>\n",
       "      <td>2023-01-15</td>\n",
       "      <td>North</td>\n",
       "      <td>Alice Johnson</td>\n",
       "      <td>Laptop</td>\n",
       "      <td>2.0</td>\n",
       "      <td>700.00</td>\n",
       "      <td>1400.00</td>\n",
       "      <td>Credit Card</td>\n",
       "    </tr>\n",
       "    <tr>\n",
       "      <th>1</th>\n",
       "      <td>1002</td>\n",
       "      <td>2023-01-16</td>\n",
       "      <td>South</td>\n",
       "      <td>Rahul Mehta</td>\n",
       "      <td>Mobile Phone</td>\n",
       "      <td>5.0</td>\n",
       "      <td>300.00</td>\n",
       "      <td>1500.00</td>\n",
       "      <td>UPI</td>\n",
       "    </tr>\n",
       "    <tr>\n",
       "      <th>2</th>\n",
       "      <td>1003</td>\n",
       "      <td>2023-01-17</td>\n",
       "      <td>East</td>\n",
       "      <td>Fatima Noor</td>\n",
       "      <td>Headphones</td>\n",
       "      <td>10.0</td>\n",
       "      <td>50.00</td>\n",
       "      <td>500.00</td>\n",
       "      <td>Debit Card</td>\n",
       "    </tr>\n",
       "    <tr>\n",
       "      <th>3</th>\n",
       "      <td>1004</td>\n",
       "      <td>2023-01-18</td>\n",
       "      <td>West</td>\n",
       "      <td>Unknown</td>\n",
       "      <td>Laptop</td>\n",
       "      <td>1.0</td>\n",
       "      <td>720.00</td>\n",
       "      <td>720.00</td>\n",
       "      <td>Credit Card</td>\n",
       "    </tr>\n",
       "    <tr>\n",
       "      <th>4</th>\n",
       "      <td>1005</td>\n",
       "      <td>2023-01-19</td>\n",
       "      <td>North</td>\n",
       "      <td>Zoe Carter</td>\n",
       "      <td>Mobile Phone</td>\n",
       "      <td>3.0</td>\n",
       "      <td>298.75</td>\n",
       "      <td>896.25</td>\n",
       "      <td>UPI</td>\n",
       "    </tr>\n",
       "  </tbody>\n",
       "</table>\n",
       "</div>"
      ],
      "text/plain": [
       "   OrderID        Date Region   CustomerName       Product  Quantity  \\\n",
       "0     1001  2023-01-15  North  Alice Johnson        Laptop       2.0   \n",
       "1     1002  2023-01-16  South    Rahul Mehta  Mobile Phone       5.0   \n",
       "2     1003  2023-01-17   East    Fatima Noor    Headphones      10.0   \n",
       "3     1004  2023-01-18   West        Unknown        Laptop       1.0   \n",
       "4     1005  2023-01-19  North     Zoe Carter  Mobile Phone       3.0   \n",
       "\n",
       "   UnitPrice  TotalSales PaymentMethod  \n",
       "0     700.00     1400.00   Credit Card  \n",
       "1     300.00     1500.00           UPI  \n",
       "2      50.00      500.00    Debit Card  \n",
       "3     720.00      720.00   Credit Card  \n",
       "4     298.75      896.25           UPI  "
      ]
     },
     "execution_count": 48,
     "metadata": {},
     "output_type": "execute_result"
    }
   ],
   "source": [
    "df.head()"
   ]
  },
  {
   "cell_type": "code",
   "execution_count": null,
   "id": "b360c4d5-de3e-4b6f-923f-195e43145f56",
   "metadata": {},
   "outputs": [],
   "source": []
  },
  {
   "cell_type": "markdown",
   "id": "0cbd2c44-f62b-4ec0-be1f-9e247a34a141",
   "metadata": {},
   "source": [
    "#### Sum of sales by region ---"
   ]
  },
  {
   "cell_type": "code",
   "execution_count": 54,
   "id": "3eb427f2-704b-4b8e-ba80-971e42d66cbd",
   "metadata": {},
   "outputs": [
    {
     "name": "stdout",
     "output_type": "stream",
     "text": [
      "Sales by Region:\n",
      " Region\n",
      "East     2520.00\n",
      "North    4661.25\n",
      "South    3830.00\n",
      "West     3107.00\n",
      "Name: TotalSales, dtype: float64\n"
     ]
    }
   ],
   "source": [
    "sales_by_region = df.groupby('Region')['TotalSales'].sum()\n",
    "\n",
    "print(\"Sales by Region:\\n\", sales_by_region)"
   ]
  },
  {
   "cell_type": "code",
   "execution_count": null,
   "id": "bdac001a-ef49-4729-bc23-a767860770d0",
   "metadata": {},
   "outputs": [],
   "source": []
  },
  {
   "cell_type": "markdown",
   "id": "625c5dd6-1dd6-4914-a668-7be78f1ae213",
   "metadata": {},
   "source": [
    "#### Average sales per product ---"
   ]
  },
  {
   "cell_type": "code",
   "execution_count": 58,
   "id": "10766984-4dcb-49bd-a6c8-4457184fb337",
   "metadata": {},
   "outputs": [
    {
     "name": "stdout",
     "output_type": "stream",
     "text": [
      "Average Sales per Product:\n",
      " Product\n",
      "Headphones      415.000000\n",
      "Keyboard        342.500000\n",
      "Laptop          935.333333\n",
      "Mobile Phone    897.250000\n",
      "Monitor         468.333333\n",
      "Smart Watch     200.000000\n",
      "Tablet          900.000000\n",
      "Name: TotalSales, dtype: float64\n"
     ]
    }
   ],
   "source": [
    "avg_sales_product = df.groupby('Product')['TotalSales'].mean()\n",
    "\n",
    "print(\"Average Sales per Product:\\n\", avg_sales_product)"
   ]
  },
  {
   "cell_type": "code",
   "execution_count": null,
   "id": "14f0749a-a7a3-431e-aecc-9fdcc518f37b",
   "metadata": {},
   "outputs": [],
   "source": []
  },
  {
   "cell_type": "markdown",
   "id": "096c44ed-4f5d-424e-9731-36dedb69bb5d",
   "metadata": {},
   "source": [
    "#### Highest & lowest selling products ---"
   ]
  },
  {
   "cell_type": "code",
   "execution_count": 62,
   "id": "e3f684f4-1e64-4b5f-92c5-01e3a5e1de02",
   "metadata": {},
   "outputs": [
    {
     "name": "stdout",
     "output_type": "stream",
     "text": [
      "Highest selling product: Laptop\n",
      "Lowest selling product: Smart Watch\n"
     ]
    }
   ],
   "source": [
    "product_sales = df.groupby('Product')['TotalSales'].sum()\n",
    "highest_selling = product_sales.idxmax()\n",
    "lowest_selling = product_sales.idxmin()\n",
    "\n",
    "print(f\"Highest selling product: {highest_selling}\")\n",
    "print(f\"Lowest selling product: {lowest_selling}\")"
   ]
  },
  {
   "cell_type": "code",
   "execution_count": null,
   "id": "4ff3b4c1-4c22-4d97-91bc-a99db8b7542e",
   "metadata": {},
   "outputs": [],
   "source": []
  },
  {
   "cell_type": "markdown",
   "id": "ca533861-cb93-4b4d-9e85-3600241a39f5",
   "metadata": {},
   "source": [
    "#### Use NumPy to calculate mean, median, standard deviation of numerical fields ---"
   ]
  },
  {
   "cell_type": "code",
   "execution_count": 71,
   "id": "d3170603-84f3-471e-8981-54870d334f8c",
   "metadata": {},
   "outputs": [
    {
     "name": "stdout",
     "output_type": "stream",
     "text": [
      "NumPy Stats:\n",
      "Quantity → Mean: 2.80, Median: 2.00, Std Dev: 2.16\n",
      "UnitPrice → Mean: 363.04, Median: 296.88, Std Dev: 240.57\n",
      "TotalSales → Mean: 705.91, Median: 650.00, Std Dev: 385.64\n"
     ]
    }
   ],
   "source": [
    "# NumPy statistics on numerical fields\n",
    "quantities = df['Quantity'].to_numpy()\n",
    "unit_prices = df['UnitPrice'].to_numpy()\n",
    "total_sales = df['TotalSales'].to_numpy()\n",
    "\n",
    "print(\"NumPy Stats:\")\n",
    "print(f\"Quantity → Mean: {np.mean(quantities):.2f}, Median: {np.median(quantities):.2f}, Std Dev: {np.std(quantities):.2f}\")\n",
    "print(f\"UnitPrice → Mean: {np.mean(unit_prices):.2f}, Median: {np.median(unit_prices):.2f}, Std Dev: {np.std(unit_prices):.2f}\")\n",
    "print(f\"TotalSales → Mean: {np.mean(total_sales):.2f}, Median: {np.median(total_sales):.2f}, Std Dev: {np.std(total_sales):.2f}\")\n"
   ]
  },
  {
   "cell_type": "code",
   "execution_count": null,
   "id": "d6d7c2d8-2ab2-4075-bcef-793ef74c94d5",
   "metadata": {},
   "outputs": [],
   "source": []
  }
 ],
 "metadata": {
  "kernelspec": {
   "display_name": "Python 3 (ipykernel)",
   "language": "python",
   "name": "python3"
  },
  "language_info": {
   "codemirror_mode": {
    "name": "ipython",
    "version": 3
   },
   "file_extension": ".py",
   "mimetype": "text/x-python",
   "name": "python",
   "nbconvert_exporter": "python",
   "pygments_lexer": "ipython3",
   "version": "3.12.7"
  }
 },
 "nbformat": 4,
 "nbformat_minor": 5
}
